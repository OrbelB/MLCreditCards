{
 "cells": [
  {
   "cell_type": "code",
   "execution_count": 1,
   "id": "c94b10ba-450e-4c96-8bfe-33c6e7fd904d",
   "metadata": {},
   "outputs": [],
   "source": [
    "import pandas as pd\n",
    "import seaborn as sns\n",
    "import numpy as np\n",
    "from matplotlib import pyplot as plt"
   ]
  },
  {
   "cell_type": "code",
   "execution_count": 2,
   "id": "d739399b-c48e-42bb-a4de-c1da4eae4231",
   "metadata": {},
   "outputs": [],
   "source": [
    "data = pd.read_csv(\"./clean_data/creditcard_application_clean_data.csv\") \n",
    "# reading cleaned data"
   ]
  },
  {
   "cell_type": "code",
   "execution_count": 3,
   "id": "96d5a91d-55e8-4836-b16f-0e71587f4dce",
   "metadata": {},
   "outputs": [
    {
     "name": "stdout",
     "output_type": "stream",
     "text": [
      "<class 'pandas.core.frame.DataFrame'>\n",
      "RangeIndex: 36457 entries, 0 to 36456\n",
      "Data columns (total 14 columns):\n",
      " #   Column               Non-Null Count  Dtype  \n",
      "---  ------               --------------  -----  \n",
      " 0   ID                   36457 non-null  int64  \n",
      " 1   FLAG_OWN_CAR         36457 non-null  int64  \n",
      " 2   FLAG_OWN_REALTY      36457 non-null  int64  \n",
      " 3   ANNUAL_INCOME        36457 non-null  float64\n",
      " 4   NAME_INCOME_TYPE     36457 non-null  int64  \n",
      " 5   NAME_EDUCATION_TYPE  36457 non-null  int64  \n",
      " 6   NAME_HOUSING_TYPE    36457 non-null  int64  \n",
      " 7   AGE_YEARS            36457 non-null  float64\n",
      " 8   EMPLOYMENT_LENGTH    36457 non-null  float64\n",
      " 9   FLAG_MOBIL           36457 non-null  int64  \n",
      " 10  FLAG_WORK_PHONE      36457 non-null  int64  \n",
      " 11  FLAG_PHONE           36457 non-null  int64  \n",
      " 12  FLAG_EMAIL           36457 non-null  int64  \n",
      " 13  STATUS               36457 non-null  int64  \n",
      "dtypes: float64(3), int64(11)\n",
      "memory usage: 3.9 MB\n"
     ]
    }
   ],
   "source": [
    "data.info()"
   ]
  },
  {
   "cell_type": "code",
   "execution_count": 4,
   "id": "4b3474ca-303a-43f1-a8cc-e6d2a23e2fc6",
   "metadata": {},
   "outputs": [
    {
     "data": {
      "text/plain": [
       "(36457, 14)"
      ]
     },
     "execution_count": 4,
     "metadata": {},
     "output_type": "execute_result"
    }
   ],
   "source": [
    "data.shape"
   ]
  },
  {
   "cell_type": "code",
   "execution_count": 5,
   "id": "e8ac9f41-8a47-45af-bce7-3dfee291dc6e",
   "metadata": {},
   "outputs": [
    {
     "data": {
      "text/html": [
       "<div>\n",
       "<style scoped>\n",
       "    .dataframe tbody tr th:only-of-type {\n",
       "        vertical-align: middle;\n",
       "    }\n",
       "\n",
       "    .dataframe tbody tr th {\n",
       "        vertical-align: top;\n",
       "    }\n",
       "\n",
       "    .dataframe thead th {\n",
       "        text-align: right;\n",
       "    }\n",
       "</style>\n",
       "<table border=\"1\" class=\"dataframe\">\n",
       "  <thead>\n",
       "    <tr style=\"text-align: right;\">\n",
       "      <th></th>\n",
       "      <th>ID</th>\n",
       "      <th>FLAG_OWN_CAR</th>\n",
       "      <th>FLAG_OWN_REALTY</th>\n",
       "      <th>ANNUAL_INCOME</th>\n",
       "      <th>NAME_INCOME_TYPE</th>\n",
       "      <th>NAME_EDUCATION_TYPE</th>\n",
       "      <th>NAME_HOUSING_TYPE</th>\n",
       "      <th>AGE_YEARS</th>\n",
       "      <th>EMPLOYMENT_LENGTH</th>\n",
       "      <th>FLAG_MOBIL</th>\n",
       "      <th>FLAG_WORK_PHONE</th>\n",
       "      <th>FLAG_PHONE</th>\n",
       "      <th>FLAG_EMAIL</th>\n",
       "      <th>STATUS</th>\n",
       "    </tr>\n",
       "  </thead>\n",
       "  <tbody>\n",
       "    <tr>\n",
       "      <th>0</th>\n",
       "      <td>5008804</td>\n",
       "      <td>1</td>\n",
       "      <td>1</td>\n",
       "      <td>0.2587</td>\n",
       "      <td>4</td>\n",
       "      <td>1</td>\n",
       "      <td>4</td>\n",
       "      <td>0.32</td>\n",
       "      <td>0.12</td>\n",
       "      <td>1</td>\n",
       "      <td>1</td>\n",
       "      <td>0</td>\n",
       "      <td>0</td>\n",
       "      <td>1</td>\n",
       "    </tr>\n",
       "    <tr>\n",
       "      <th>1</th>\n",
       "      <td>5008805</td>\n",
       "      <td>1</td>\n",
       "      <td>1</td>\n",
       "      <td>0.2587</td>\n",
       "      <td>4</td>\n",
       "      <td>1</td>\n",
       "      <td>4</td>\n",
       "      <td>0.32</td>\n",
       "      <td>0.12</td>\n",
       "      <td>1</td>\n",
       "      <td>1</td>\n",
       "      <td>0</td>\n",
       "      <td>0</td>\n",
       "      <td>1</td>\n",
       "    </tr>\n",
       "    <tr>\n",
       "      <th>2</th>\n",
       "      <td>5008806</td>\n",
       "      <td>1</td>\n",
       "      <td>1</td>\n",
       "      <td>0.0552</td>\n",
       "      <td>4</td>\n",
       "      <td>4</td>\n",
       "      <td>1</td>\n",
       "      <td>0.58</td>\n",
       "      <td>0.03</td>\n",
       "      <td>1</td>\n",
       "      <td>0</td>\n",
       "      <td>0</td>\n",
       "      <td>0</td>\n",
       "      <td>0</td>\n",
       "    </tr>\n",
       "    <tr>\n",
       "      <th>3</th>\n",
       "      <td>5008808</td>\n",
       "      <td>0</td>\n",
       "      <td>1</td>\n",
       "      <td>0.1570</td>\n",
       "      <td>0</td>\n",
       "      <td>4</td>\n",
       "      <td>1</td>\n",
       "      <td>0.52</td>\n",
       "      <td>0.08</td>\n",
       "      <td>1</td>\n",
       "      <td>0</td>\n",
       "      <td>1</td>\n",
       "      <td>1</td>\n",
       "      <td>0</td>\n",
       "    </tr>\n",
       "    <tr>\n",
       "      <th>4</th>\n",
       "      <td>5008809</td>\n",
       "      <td>0</td>\n",
       "      <td>1</td>\n",
       "      <td>0.1570</td>\n",
       "      <td>0</td>\n",
       "      <td>4</td>\n",
       "      <td>1</td>\n",
       "      <td>0.52</td>\n",
       "      <td>0.08</td>\n",
       "      <td>1</td>\n",
       "      <td>0</td>\n",
       "      <td>1</td>\n",
       "      <td>1</td>\n",
       "      <td>0</td>\n",
       "    </tr>\n",
       "  </tbody>\n",
       "</table>\n",
       "</div>"
      ],
      "text/plain": [
       "        ID  FLAG_OWN_CAR  FLAG_OWN_REALTY  ANNUAL_INCOME  NAME_INCOME_TYPE  \\\n",
       "0  5008804             1                1         0.2587                 4   \n",
       "1  5008805             1                1         0.2587                 4   \n",
       "2  5008806             1                1         0.0552                 4   \n",
       "3  5008808             0                1         0.1570                 0   \n",
       "4  5008809             0                1         0.1570                 0   \n",
       "\n",
       "   NAME_EDUCATION_TYPE  NAME_HOUSING_TYPE  AGE_YEARS  EMPLOYMENT_LENGTH  \\\n",
       "0                    1                  4       0.32               0.12   \n",
       "1                    1                  4       0.32               0.12   \n",
       "2                    4                  1       0.58               0.03   \n",
       "3                    4                  1       0.52               0.08   \n",
       "4                    4                  1       0.52               0.08   \n",
       "\n",
       "   FLAG_MOBIL  FLAG_WORK_PHONE  FLAG_PHONE  FLAG_EMAIL  STATUS  \n",
       "0           1                1           0           0       1  \n",
       "1           1                1           0           0       1  \n",
       "2           1                0           0           0       0  \n",
       "3           1                0           1           1       0  \n",
       "4           1                0           1           1       0  "
      ]
     },
     "execution_count": 5,
     "metadata": {},
     "output_type": "execute_result"
    }
   ],
   "source": [
    "data.head()"
   ]
  },
  {
   "cell_type": "code",
   "execution_count": 6,
   "id": "0c88b68e-7a7a-4710-9341-c2a29a8a3582",
   "metadata": {},
   "outputs": [],
   "source": [
    "import xgboost as xgb"
   ]
  },
  {
   "cell_type": "code",
   "execution_count": 7,
   "id": "25f9ae3e-ec45-40df-b496-5c204f9e87aa",
   "metadata": {},
   "outputs": [
    {
     "data": {
      "text/plain": [
       "Index(['ID', 'FLAG_OWN_CAR', 'FLAG_OWN_REALTY', 'ANNUAL_INCOME',\n",
       "       'NAME_INCOME_TYPE', 'NAME_EDUCATION_TYPE', 'NAME_HOUSING_TYPE',\n",
       "       'AGE_YEARS', 'EMPLOYMENT_LENGTH', 'FLAG_MOBIL', 'FLAG_WORK_PHONE',\n",
       "       'FLAG_PHONE', 'FLAG_EMAIL', 'STATUS'],\n",
       "      dtype='object')"
      ]
     },
     "execution_count": 7,
     "metadata": {},
     "output_type": "execute_result"
    }
   ],
   "source": [
    "data.columns"
   ]
  },
  {
   "cell_type": "code",
   "execution_count": 8,
   "id": "30709358-5bfa-4ac8-b3b5-4f4c72ad3f00",
   "metadata": {},
   "outputs": [],
   "source": [
    "# Features - exclude ID(0) and status(13) columns\n",
    "X = data.iloc[:,1:13]\n",
    "\n",
    "# Label - select only status(13) column\n",
    "y = data.iloc[:,13]"
   ]
  },
  {
   "cell_type": "code",
   "execution_count": 9,
   "id": "6c1b1f93-c3a3-46e6-803f-680297377a50",
   "metadata": {},
   "outputs": [
    {
     "data": {
      "text/html": [
       "<div>\n",
       "<style scoped>\n",
       "    .dataframe tbody tr th:only-of-type {\n",
       "        vertical-align: middle;\n",
       "    }\n",
       "\n",
       "    .dataframe tbody tr th {\n",
       "        vertical-align: top;\n",
       "    }\n",
       "\n",
       "    .dataframe thead th {\n",
       "        text-align: right;\n",
       "    }\n",
       "</style>\n",
       "<table border=\"1\" class=\"dataframe\">\n",
       "  <thead>\n",
       "    <tr style=\"text-align: right;\">\n",
       "      <th></th>\n",
       "      <th>FLAG_OWN_CAR</th>\n",
       "      <th>FLAG_OWN_REALTY</th>\n",
       "      <th>ANNUAL_INCOME</th>\n",
       "      <th>NAME_INCOME_TYPE</th>\n",
       "      <th>NAME_EDUCATION_TYPE</th>\n",
       "      <th>NAME_HOUSING_TYPE</th>\n",
       "      <th>AGE_YEARS</th>\n",
       "      <th>EMPLOYMENT_LENGTH</th>\n",
       "      <th>FLAG_MOBIL</th>\n",
       "      <th>FLAG_WORK_PHONE</th>\n",
       "      <th>FLAG_PHONE</th>\n",
       "      <th>FLAG_EMAIL</th>\n",
       "    </tr>\n",
       "  </thead>\n",
       "  <tbody>\n",
       "    <tr>\n",
       "      <th>0</th>\n",
       "      <td>1</td>\n",
       "      <td>1</td>\n",
       "      <td>0.2587</td>\n",
       "      <td>4</td>\n",
       "      <td>1</td>\n",
       "      <td>4</td>\n",
       "      <td>0.32</td>\n",
       "      <td>0.12</td>\n",
       "      <td>1</td>\n",
       "      <td>1</td>\n",
       "      <td>0</td>\n",
       "      <td>0</td>\n",
       "    </tr>\n",
       "    <tr>\n",
       "      <th>1</th>\n",
       "      <td>1</td>\n",
       "      <td>1</td>\n",
       "      <td>0.2587</td>\n",
       "      <td>4</td>\n",
       "      <td>1</td>\n",
       "      <td>4</td>\n",
       "      <td>0.32</td>\n",
       "      <td>0.12</td>\n",
       "      <td>1</td>\n",
       "      <td>1</td>\n",
       "      <td>0</td>\n",
       "      <td>0</td>\n",
       "    </tr>\n",
       "    <tr>\n",
       "      <th>2</th>\n",
       "      <td>1</td>\n",
       "      <td>1</td>\n",
       "      <td>0.0552</td>\n",
       "      <td>4</td>\n",
       "      <td>4</td>\n",
       "      <td>1</td>\n",
       "      <td>0.58</td>\n",
       "      <td>0.03</td>\n",
       "      <td>1</td>\n",
       "      <td>0</td>\n",
       "      <td>0</td>\n",
       "      <td>0</td>\n",
       "    </tr>\n",
       "    <tr>\n",
       "      <th>3</th>\n",
       "      <td>0</td>\n",
       "      <td>1</td>\n",
       "      <td>0.1570</td>\n",
       "      <td>0</td>\n",
       "      <td>4</td>\n",
       "      <td>1</td>\n",
       "      <td>0.52</td>\n",
       "      <td>0.08</td>\n",
       "      <td>1</td>\n",
       "      <td>0</td>\n",
       "      <td>1</td>\n",
       "      <td>1</td>\n",
       "    </tr>\n",
       "    <tr>\n",
       "      <th>4</th>\n",
       "      <td>0</td>\n",
       "      <td>1</td>\n",
       "      <td>0.1570</td>\n",
       "      <td>0</td>\n",
       "      <td>4</td>\n",
       "      <td>1</td>\n",
       "      <td>0.52</td>\n",
       "      <td>0.08</td>\n",
       "      <td>1</td>\n",
       "      <td>0</td>\n",
       "      <td>1</td>\n",
       "      <td>1</td>\n",
       "    </tr>\n",
       "    <tr>\n",
       "      <th>...</th>\n",
       "      <td>...</td>\n",
       "      <td>...</td>\n",
       "      <td>...</td>\n",
       "      <td>...</td>\n",
       "      <td>...</td>\n",
       "      <td>...</td>\n",
       "      <td>...</td>\n",
       "      <td>...</td>\n",
       "      <td>...</td>\n",
       "      <td>...</td>\n",
       "      <td>...</td>\n",
       "      <td>...</td>\n",
       "    </tr>\n",
       "    <tr>\n",
       "      <th>36452</th>\n",
       "      <td>1</td>\n",
       "      <td>1</td>\n",
       "      <td>0.1860</td>\n",
       "      <td>4</td>\n",
       "      <td>4</td>\n",
       "      <td>1</td>\n",
       "      <td>0.47</td>\n",
       "      <td>0.06</td>\n",
       "      <td>1</td>\n",
       "      <td>0</td>\n",
       "      <td>0</td>\n",
       "      <td>0</td>\n",
       "    </tr>\n",
       "    <tr>\n",
       "      <th>36453</th>\n",
       "      <td>0</td>\n",
       "      <td>1</td>\n",
       "      <td>0.0843</td>\n",
       "      <td>0</td>\n",
       "      <td>1</td>\n",
       "      <td>1</td>\n",
       "      <td>0.33</td>\n",
       "      <td>0.03</td>\n",
       "      <td>1</td>\n",
       "      <td>0</td>\n",
       "      <td>1</td>\n",
       "      <td>1</td>\n",
       "    </tr>\n",
       "    <tr>\n",
       "      <th>36454</th>\n",
       "      <td>0</td>\n",
       "      <td>1</td>\n",
       "      <td>0.0843</td>\n",
       "      <td>1</td>\n",
       "      <td>1</td>\n",
       "      <td>1</td>\n",
       "      <td>0.33</td>\n",
       "      <td>0.03</td>\n",
       "      <td>1</td>\n",
       "      <td>0</td>\n",
       "      <td>1</td>\n",
       "      <td>1</td>\n",
       "    </tr>\n",
       "    <tr>\n",
       "      <th>36455</th>\n",
       "      <td>0</td>\n",
       "      <td>1</td>\n",
       "      <td>0.1657</td>\n",
       "      <td>4</td>\n",
       "      <td>4</td>\n",
       "      <td>1</td>\n",
       "      <td>0.49</td>\n",
       "      <td>0.01</td>\n",
       "      <td>1</td>\n",
       "      <td>0</td>\n",
       "      <td>0</td>\n",
       "      <td>0</td>\n",
       "    </tr>\n",
       "    <tr>\n",
       "      <th>36456</th>\n",
       "      <td>0</td>\n",
       "      <td>1</td>\n",
       "      <td>0.0552</td>\n",
       "      <td>4</td>\n",
       "      <td>4</td>\n",
       "      <td>4</td>\n",
       "      <td>0.25</td>\n",
       "      <td>0.03</td>\n",
       "      <td>1</td>\n",
       "      <td>0</td>\n",
       "      <td>0</td>\n",
       "      <td>0</td>\n",
       "    </tr>\n",
       "  </tbody>\n",
       "</table>\n",
       "<p>36457 rows × 12 columns</p>\n",
       "</div>"
      ],
      "text/plain": [
       "       FLAG_OWN_CAR  FLAG_OWN_REALTY  ANNUAL_INCOME  NAME_INCOME_TYPE  \\\n",
       "0                 1                1         0.2587                 4   \n",
       "1                 1                1         0.2587                 4   \n",
       "2                 1                1         0.0552                 4   \n",
       "3                 0                1         0.1570                 0   \n",
       "4                 0                1         0.1570                 0   \n",
       "...             ...              ...            ...               ...   \n",
       "36452             1                1         0.1860                 4   \n",
       "36453             0                1         0.0843                 0   \n",
       "36454             0                1         0.0843                 1   \n",
       "36455             0                1         0.1657                 4   \n",
       "36456             0                1         0.0552                 4   \n",
       "\n",
       "       NAME_EDUCATION_TYPE  NAME_HOUSING_TYPE  AGE_YEARS  EMPLOYMENT_LENGTH  \\\n",
       "0                        1                  4       0.32               0.12   \n",
       "1                        1                  4       0.32               0.12   \n",
       "2                        4                  1       0.58               0.03   \n",
       "3                        4                  1       0.52               0.08   \n",
       "4                        4                  1       0.52               0.08   \n",
       "...                    ...                ...        ...                ...   \n",
       "36452                    4                  1       0.47               0.06   \n",
       "36453                    1                  1       0.33               0.03   \n",
       "36454                    1                  1       0.33               0.03   \n",
       "36455                    4                  1       0.49               0.01   \n",
       "36456                    4                  4       0.25               0.03   \n",
       "\n",
       "       FLAG_MOBIL  FLAG_WORK_PHONE  FLAG_PHONE  FLAG_EMAIL  \n",
       "0               1                1           0           0  \n",
       "1               1                1           0           0  \n",
       "2               1                0           0           0  \n",
       "3               1                0           1           1  \n",
       "4               1                0           1           1  \n",
       "...           ...              ...         ...         ...  \n",
       "36452           1                0           0           0  \n",
       "36453           1                0           1           1  \n",
       "36454           1                0           1           1  \n",
       "36455           1                0           0           0  \n",
       "36456           1                0           0           0  \n",
       "\n",
       "[36457 rows x 12 columns]"
      ]
     },
     "execution_count": 9,
     "metadata": {},
     "output_type": "execute_result"
    }
   ],
   "source": [
    "X"
   ]
  },
  {
   "cell_type": "code",
   "execution_count": 10,
   "id": "2e8a02d5-a7c7-45a8-863d-cea7815881a7",
   "metadata": {},
   "outputs": [
    {
     "data": {
      "text/plain": [
       "0        1\n",
       "1        1\n",
       "2        0\n",
       "3        0\n",
       "4        0\n",
       "        ..\n",
       "36452    1\n",
       "36453    1\n",
       "36454    1\n",
       "36455    1\n",
       "36456    1\n",
       "Name: STATUS, Length: 36457, dtype: int64"
      ]
     },
     "execution_count": 10,
     "metadata": {},
     "output_type": "execute_result"
    }
   ],
   "source": [
    "y"
   ]
  },
  {
   "cell_type": "code",
   "execution_count": 11,
   "id": "109de6c8-8e48-4001-a808-027171aa76f4",
   "metadata": {},
   "outputs": [],
   "source": [
    "from sklearn.model_selection import train_test_split\n",
    "X_train, X_test, y_train, y_test = train_test_split(X, y, test_size=0.2, random_state=235)"
   ]
  },
  {
   "cell_type": "code",
   "execution_count": 12,
   "id": "94500ff4-918f-4b10-b175-a992206f5fde",
   "metadata": {},
   "outputs": [],
   "source": [
    "xgb_cred = xgb.XGBClassifier(\n",
    " learning_rate =0.1,\n",
    " max_depth=10,\n",
    " min_child_weight=50,\n",
    " subsample=0.6,\n",
    " n_estimators=100,\n",
    " objective= 'binary:logistic'\n",
    ")"
   ]
  },
  {
   "cell_type": "code",
   "execution_count": 13,
   "id": "2d51d922-9c69-4fcb-af99-8e42b5616d2d",
   "metadata": {},
   "outputs": [
    {
     "data": {
      "text/plain": [
       "XGBClassifier(base_score=0.5, booster='gbtree', callbacks=None,\n",
       "              colsample_bylevel=1, colsample_bynode=1, colsample_bytree=1,\n",
       "              early_stopping_rounds=None, enable_categorical=False,\n",
       "              eval_metric=None, feature_types=None, gamma=0, gpu_id=-1,\n",
       "              grow_policy='depthwise', importance_type=None,\n",
       "              interaction_constraints='', learning_rate=0.1, max_bin=256,\n",
       "              max_cat_threshold=64, max_cat_to_onehot=4, max_delta_step=0,\n",
       "              max_depth=10, max_leaves=0, min_child_weight=50, missing=nan,\n",
       "              monotone_constraints='()', n_estimators=100, n_jobs=0,\n",
       "              num_parallel_tree=1, predictor='auto', random_state=0, ...)"
      ]
     },
     "execution_count": 13,
     "metadata": {},
     "output_type": "execute_result"
    }
   ],
   "source": [
    "xgb_cred.fit(X_train, y_train)"
   ]
  },
  {
   "cell_type": "code",
   "execution_count": 14,
   "id": "7fc86a01-d7ca-40be-b901-40b3772004c1",
   "metadata": {},
   "outputs": [],
   "source": [
    "# pred_class = xgb_cred.predict(X_test)\n",
    "prob_credit = xgb_cred.predict_proba(X_test)"
   ]
  },
  {
   "cell_type": "code",
   "execution_count": 15,
   "id": "f55c1f19-fb98-4d1a-aba1-497a5230851d",
   "metadata": {},
   "outputs": [
    {
     "data": {
      "text/plain": [
       "array([[0.9295438 , 0.07045621],\n",
       "       [0.8993929 , 0.1006071 ],\n",
       "       [0.87314075, 0.12685925],\n",
       "       ...,\n",
       "       [0.9089107 , 0.09108932],\n",
       "       [0.9405551 , 0.05944493],\n",
       "       [0.92386556, 0.07613445]], dtype=float32)"
      ]
     },
     "execution_count": 15,
     "metadata": {},
     "output_type": "execute_result"
    }
   ],
   "source": [
    "prob_credit"
   ]
  },
  {
   "cell_type": "code",
   "execution_count": 16,
   "id": "f6f9d930-1e51-4303-9ba1-8acf1bd04945",
   "metadata": {},
   "outputs": [],
   "source": [
    "prob_credit_new = prob_credit[:,1]"
   ]
  },
  {
   "cell_type": "code",
   "execution_count": 17,
   "id": "e2f879cd-b39c-4934-9c00-01a442d81657",
   "metadata": {},
   "outputs": [
    {
     "data": {
      "text/plain": [
       "array([0.07045621, 0.1006071 , 0.12685925, ..., 0.09108932, 0.05944493,\n",
       "       0.07613445], dtype=float32)"
      ]
     },
     "execution_count": 17,
     "metadata": {},
     "output_type": "execute_result"
    }
   ],
   "source": [
    "prob_credit_new"
   ]
  },
  {
   "cell_type": "code",
   "execution_count": 18,
   "id": "8319fba7-9266-4145-aea3-1cd536f76e31",
   "metadata": {},
   "outputs": [
    {
     "data": {
      "text/plain": [
       "0.1686547142267227"
      ]
     },
     "execution_count": 18,
     "metadata": {},
     "output_type": "execute_result"
    }
   ],
   "source": [
    "np.quantile(prob_credit_new, 0.88)"
   ]
  },
  {
   "cell_type": "code",
   "execution_count": 19,
   "id": "4a5769d2-3025-4c29-9bc3-1a610001579b",
   "metadata": {},
   "outputs": [],
   "source": [
    "y_pred = np.where(prob_credit_new>=0.17,1,0)"
   ]
  },
  {
   "cell_type": "code",
   "execution_count": 20,
   "id": "fe8dc221-0453-4197-9a82-62e8b0039e38",
   "metadata": {},
   "outputs": [
    {
     "data": {
      "text/plain": [
       "array([0, 0, 0, ..., 0, 0, 0])"
      ]
     },
     "execution_count": 20,
     "metadata": {},
     "output_type": "execute_result"
    }
   ],
   "source": [
    "y_pred"
   ]
  },
  {
   "cell_type": "code",
   "execution_count": 21,
   "id": "da2ebd01-2595-4dee-a9f9-e87f351e66ca",
   "metadata": {},
   "outputs": [
    {
     "data": {
      "image/png": "[encoded data removed]",
      "text/plain": [
       "<Figure size 432x288 with 1 Axes>"
      ]
     },
     "metadata": {
      "needs_background": "light"
     },
     "output_type": "display_data"
    }
   ],
   "source": [
    "xgb.plot_importance(xgb_cred)\n",
    "plt.rcParams['figure.figsize'] = [16, 10]\n",
    "plt.show()"
   ]
  },
  {
   "cell_type": "code",
   "execution_count": 22,
   "id": "424702ef-ebe6-436b-8a07-f1df1617467b",
   "metadata": {},
   "outputs": [
    {
     "name": "stdout",
     "output_type": "stream",
     "text": [
      "Accuracy:  82.36423477783873 %\n"
     ]
    },
    {
     "data": {
      "text/plain": [
       "[Text(0.5, 69.0, 'Predicted'), Text(123.0, 0.5, 'Actual')]"
      ]
     },
     "execution_count": 22,
     "metadata": {},
     "output_type": "execute_result"
    },
    {
     "data": {
      "image/png": "[encoded data removed]",
      "text/plain": [
       "<Figure size 1152x720 with 2 Axes>"
      ]
     },
     "metadata": {
      "needs_background": "light"
     },
     "output_type": "display_data"
    }
   ],
   "source": [
    "from sklearn.metrics import accuracy_score\n",
    "from sklearn.metrics import confusion_matrix\n",
    "\n",
    "accuracy = accuracy_score(y_test, y_pred)\n",
    "print(\"Accuracy: \", accuracy*100, \"%\")\n",
    "cm = confusion_matrix(y_test, y_pred)\n",
    "ax = sns.heatmap(cm, annot = True, fmt = 'g')\n",
    "ax.set(xlabel=\"Predicted\", ylabel=\"Actual\")"
   ]
  },
  {
   "cell_type": "code",
   "execution_count": 23,
   "id": "b892c2d9-f2e7-477e-88d7-f1c2a0b5b3cc",
   "metadata": {},
   "outputs": [
    {
     "data": {
      "text/plain": [
       "GridSearchCV(cv=5,\n",
       "             estimator=XGBClassifier(base_score=None, booster=None,\n",
       "                                     callbacks=None, colsample_bylevel=None,\n",
       "                                     colsample_bynode=None,\n",
       "                                     colsample_bytree=None,\n",
       "                                     early_stopping_rounds=None,\n",
       "                                     enable_categorical=False, eval_metric=None,\n",
       "                                     feature_types=None, gamma=None,\n",
       "                                     gpu_id=None, grow_policy=None,\n",
       "                                     importance_type=None,\n",
       "                                     interaction_constraints=None,\n",
       "                                     learning_rate=0.1, m...\n",
       "                                     max_leaves=None, min_child_weight=50,\n",
       "                                     missing=nan, monotone_constraints=None,\n",
       "                                     n_estimators=100, n_jobs=None,\n",
       "                                     num_parallel_tree=None, predictor=None,\n",
       "                                     random_state=None, ...),\n",
       "             n_jobs=4,\n",
       "             param_grid={'colsample_bytree': [0.6, 0.7, 0.8],\n",
       "                         'gamma': [0.0, 0.1, 0.2, 0.3, 0.4],\n",
       "                         'learning_rate': [0.05, 0.1, 0.15, 0.2, 0.25, 0.3],\n",
       "                         'max_depth': [5, 10, 15],\n",
       "                         'min_child_weight': [6, 8, 10, 12],\n",
       "                         'subsample': [0.6, 0.7, 0.8, 0.9]})"
      ]
     },
     "execution_count": 23,
     "metadata": {},
     "output_type": "execute_result"
    }
   ],
   "source": [
    "import warnings\n",
    "warnings.filterwarnings(\"ignore\")\n",
    "\n",
    "from sklearn.model_selection import GridSearchCV\n",
    "from xgboost.sklearn import XGBClassifier\n",
    "\n",
    "params = {\n",
    "    'learning_rate': [0.05,0.1,0.15,0.2,0.25,0.3],\n",
    "    'max_depth':[5,10,15],\n",
    "    'min_child_weight':[6,8,10,12],\n",
    "    'subsample': [0.6,0.7,0.8,0.9], \n",
    "    'colsample_bytree':[0.6,0.7,0.8],\n",
    "    'gamma':[i/10.0 for i in range(0,5)]\n",
    "}\n",
    "\n",
    "gs = GridSearchCV(\n",
    "    estimator = XGBClassifier( \n",
    "        learning_rate =0.1,\n",
    "        max_depth=10,\n",
    "        min_child_weight=50,\n",
    "        subsample=0.6,\n",
    "        n_estimators=100,\n",
    "        objective= 'binary:logistic'), \n",
    "    param_grid = params,\n",
    "    n_jobs=4, \n",
    "    cv=5)\n",
    "\n",
    "gs.fit(X_train, y_train)"
   ]
  },
  {
   "cell_type": "code",
   "execution_count": 24,
   "id": "cf201612-370c-462d-ab4b-c767d6ef4232",
   "metadata": {},
   "outputs": [
    {
     "data": {
      "text/plain": [
       "({'colsample_bytree': 0.6,\n",
       "  'gamma': 0.2,\n",
       "  'learning_rate': 0.2,\n",
       "  'max_depth': 15,\n",
       "  'min_child_weight': 6,\n",
       "  'subsample': 0.8},\n",
       " 0.8873307046116921)"
      ]
     },
     "execution_count": 24,
     "metadata": {},
     "output_type": "execute_result"
    }
   ],
   "source": [
    "gs.best_params_, gs.best_score_"
   ]
  },
  {
   "cell_type": "code",
   "execution_count": 32,
   "id": "cc478a39-52ce-4e72-8d1c-ea2453e6e949",
   "metadata": {},
   "outputs": [
    {
     "data": {
      "text/plain": [
       "XGBClassifier(base_score=0.5, booster='gbtree', callbacks=None,\n",
       "              colsample_bylevel=1, colsample_bynode=1, colsample_bytree=0.6,\n",
       "              early_stopping_rounds=None, enable_categorical=False,\n",
       "              eval_metric=None, feature_types=None, gamma=0.2, gpu_id=-1,\n",
       "              grow_policy='depthwise', importance_type=None,\n",
       "              interaction_constraints='', learning_rate=0.2, max_bin=256,\n",
       "              max_cat_threshold=64, max_cat_to_onehot=4, max_delta_step=0,\n",
       "              max_depth=15, max_leaves=0, min_child_weight=6, missing=nan,\n",
       "              monotone_constraints='()', n_estimators=100, n_jobs=0,\n",
       "              num_parallel_tree=1, predictor='auto', random_state=0, ...)"
      ]
     },
     "execution_count": 32,
     "metadata": {},
     "output_type": "execute_result"
    }
   ],
   "source": [
    "optimized_xgbcred = xgb.XGBClassifier(\n",
    "    learning_rate =0.2,\n",
    "    n_estimators=100,\n",
    "    max_depth=15,\n",
    "    min_child_weight=6,\n",
    "    gamma=0.2,\n",
    "    subsample=0.8,\n",
    "    colsample_bytree=0.6,\n",
    "    objective= 'binary:logistic'\n",
    ")\n",
    "optimized_xgbcred.fit(X_train,y_train)"
   ]
  },
  {
   "cell_type": "code",
   "execution_count": 33,
   "id": "5339e917-3fb0-4268-bc5e-39aca483ae30",
   "metadata": {},
   "outputs": [],
   "source": [
    "prob_credit2 = optimized_xgbcred.predict_proba(X_test)\n",
    "prob_credit_new2 = prob_credit2[:,1]"
   ]
  },
  {
   "cell_type": "code",
   "execution_count": 34,
   "id": "b4f32034-0aa7-4a67-a64c-96f1179f82ae",
   "metadata": {},
   "outputs": [
    {
     "data": {
      "text/plain": [
       "0.24125388264656067"
      ]
     },
     "execution_count": 34,
     "metadata": {},
     "output_type": "execute_result"
    }
   ],
   "source": [
    "np.quantile(prob_credit_new2,0.88)"
   ]
  },
  {
   "cell_type": "code",
   "execution_count": 35,
   "id": "5462bc8b-da59-4333-a2af-fc5d82db9e1f",
   "metadata": {},
   "outputs": [],
   "source": [
    "y_pred_final = np.where(prob_credit_new2>=0.22,1,0)"
   ]
  },
  {
   "cell_type": "code",
   "execution_count": 36,
   "id": "0fc7d00b-6069-46b8-bd52-640777083981",
   "metadata": {},
   "outputs": [
    {
     "name": "stdout",
     "output_type": "stream",
     "text": [
      "Accuracy:  84.14701042238069 %\n"
     ]
    },
    {
     "data": {
      "text/plain": [
       "[Text(0.5, 69.0, 'Predicted'), Text(123.0, 0.5, 'Actual')]"
      ]
     },
     "execution_count": 36,
     "metadata": {},
     "output_type": "execute_result"
    },
    {
     "data": {
      "image/png": "[encoded data removed]",
      "text/plain": [
       "<Figure size 1152x720 with 2 Axes>"
      ]
     },
     "metadata": {
      "needs_background": "light"
     },
     "output_type": "display_data"
    }
   ],
   "source": [
    "accuracy = accuracy_score(y_test, y_pred_final)\n",
    "print(\"Accuracy: \", accuracy * 100.0, \"%\")\n",
    "\n",
    "cm = confusion_matrix(y_test, y_pred_final)\n",
    "ax = sns.heatmap(cm, annot = True, fmt = 'g')\n",
    "ax.set(xlabel=\"Predicted\", ylabel=\"Actual\")"
   ]
  },
  {
   "cell_type": "code",
   "execution_count": 37,
   "id": "ab6939eb-3852-4dfb-ad50-d1da871a315d",
   "metadata": {},
   "outputs": [],
   "source": [
    "from xgboost import cv\n",
    "\n",
    "data_dmatrix = xgb.DMatrix(data=X,label=y)\n",
    "\n",
    "params = {\"objective\":\"binary:logistic\",\n",
    "  'colsample_bytree': 0.6,\n",
    "  'gamma': 0.2,\n",
    "  'learning_rate': 0.2,\n",
    "  'max_depth': 15,\n",
    "  'min_child_weight': 6,\n",
    "  'subsample': 0.8}\n",
    "\n",
    "xgb_cv = cv(dtrain=data_dmatrix, params=params, nfold=10,\n",
    "                    num_boost_round=50, early_stopping_rounds=10, metrics=\"auc\", as_pandas=True, seed=123)"
   ]
  },
  {
   "cell_type": "code",
   "execution_count": 38,
   "id": "62e982cd-cebd-4fc6-bb3e-46980cf5561c",
   "metadata": {},
   "outputs": [
    {
     "data": {
      "text/html": [
       "<div>\n",
       "<style scoped>\n",
       "    .dataframe tbody tr th:only-of-type {\n",
       "        vertical-align: middle;\n",
       "    }\n",
       "\n",
       "    .dataframe tbody tr th {\n",
       "        vertical-align: top;\n",
       "    }\n",
       "\n",
       "    .dataframe thead th {\n",
       "        text-align: right;\n",
       "    }\n",
       "</style>\n",
       "<table border=\"1\" class=\"dataframe\">\n",
       "  <thead>\n",
       "    <tr style=\"text-align: right;\">\n",
       "      <th></th>\n",
       "      <th>train-auc-mean</th>\n",
       "      <th>train-auc-std</th>\n",
       "      <th>test-auc-mean</th>\n",
       "      <th>test-auc-std</th>\n",
       "    </tr>\n",
       "  </thead>\n",
       "  <tbody>\n",
       "    <tr>\n",
       "      <th>0</th>\n",
       "      <td>0.542604</td>\n",
       "      <td>0.007247</td>\n",
       "      <td>0.531090</td>\n",
       "      <td>0.012048</td>\n",
       "    </tr>\n",
       "    <tr>\n",
       "      <th>1</th>\n",
       "      <td>0.624865</td>\n",
       "      <td>0.046776</td>\n",
       "      <td>0.575042</td>\n",
       "      <td>0.030152</td>\n",
       "    </tr>\n",
       "    <tr>\n",
       "      <th>2</th>\n",
       "      <td>0.669997</td>\n",
       "      <td>0.031063</td>\n",
       "      <td>0.600177</td>\n",
       "      <td>0.029400</td>\n",
       "    </tr>\n",
       "    <tr>\n",
       "      <th>3</th>\n",
       "      <td>0.687778</td>\n",
       "      <td>0.037291</td>\n",
       "      <td>0.609157</td>\n",
       "      <td>0.031942</td>\n",
       "    </tr>\n",
       "    <tr>\n",
       "      <th>4</th>\n",
       "      <td>0.729744</td>\n",
       "      <td>0.019251</td>\n",
       "      <td>0.636609</td>\n",
       "      <td>0.024095</td>\n",
       "    </tr>\n",
       "  </tbody>\n",
       "</table>\n",
       "</div>"
      ],
      "text/plain": [
       "   train-auc-mean  train-auc-std  test-auc-mean  test-auc-std\n",
       "0        0.542604       0.007247       0.531090      0.012048\n",
       "1        0.624865       0.046776       0.575042      0.030152\n",
       "2        0.669997       0.031063       0.600177      0.029400\n",
       "3        0.687778       0.037291       0.609157      0.031942\n",
       "4        0.729744       0.019251       0.636609      0.024095"
      ]
     },
     "execution_count": 38,
     "metadata": {},
     "output_type": "execute_result"
    }
   ],
   "source": [
    "xgb_cv.head()"
   ]
  },
  {
   "cell_type": "code",
   "execution_count": null,
   "id": "2c2c1fb2-8f6e-4c18-af90-1b5fc640d52c",
   "metadata": {},
   "outputs": [],
   "source": []
  }
 ],
 "metadata": {
  "kernelspec": {
   "display_name": "Python 3 (ipykernel)",
   "language": "python",
   "name": "python3"
  },
  "language_info": {
   "codemirror_mode": {
    "name": "ipython",
    "version": 3
   },
   "file_extension": ".py",
   "mimetype": "text/x-python",
   "name": "python",
   "nbconvert_exporter": "python",
   "pygments_lexer": "ipython3",
   "version": "3.9.12"
  }
 },
 "nbformat": 4,
 "nbformat_minor": 5
}
