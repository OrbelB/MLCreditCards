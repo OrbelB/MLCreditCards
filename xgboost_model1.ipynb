{
 "cells": [
  {
   "cell_type": "code",
   "execution_count": 1,
   "id": "c94b10ba-450e-4c96-8bfe-33c6e7fd904d",
   "metadata": {},
   "outputs": [],
   "source": [
    "import pandas as pd\n",
    "import seaborn as sns\n",
    "import numpy as np\n",
    "from matplotlib import pyplot as plt"
   ]
  },
  {
   "cell_type": "markdown",
   "id": "1d4b491b-74e9-480b-9687-f996926b4a86",
   "metadata": {},
   "source": [
    "Reading the cleaned data"
   ]
  },
  {
   "cell_type": "code",
   "execution_count": 2,
   "id": "d739399b-c48e-42bb-a4de-c1da4eae4231",
   "metadata": {},
   "outputs": [],
   "source": [
    "data = pd.read_csv(\"./clean_data/creditcard_application_clean_data.csv\") "
   ]
  },
  {
   "cell_type": "code",
   "execution_count": 3,
   "id": "96d5a91d-55e8-4836-b16f-0e71587f4dce",
   "metadata": {},
   "outputs": [
    {
     "name": "stdout",
     "output_type": "stream",
     "text": [
      "<class 'pandas.core.frame.DataFrame'>\n",
      "RangeIndex: 36457 entries, 0 to 36456\n",
      "Data columns (total 14 columns):\n",
      " #   Column               Non-Null Count  Dtype  \n",
      "---  ------               --------------  -----  \n",
      " 0   ID                   36457 non-null  int64  \n",
      " 1   FLAG_OWN_CAR         36457 non-null  int64  \n",
      " 2   FLAG_OWN_REALTY      36457 non-null  int64  \n",
      " 3   ANNUAL_INCOME        36457 non-null  float64\n",
      " 4   NAME_INCOME_TYPE     36457 non-null  int64  \n",
      " 5   NAME_EDUCATION_TYPE  36457 non-null  int64  \n",
      " 6   NAME_HOUSING_TYPE    36457 non-null  int64  \n",
      " 7   AGE_YEARS            36457 non-null  float64\n",
      " 8   EMPLOYMENT_LENGTH    36457 non-null  float64\n",
      " 9   FLAG_MOBIL           36457 non-null  int64  \n",
      " 10  FLAG_WORK_PHONE      36457 non-null  int64  \n",
      " 11  FLAG_PHONE           36457 non-null  int64  \n",
      " 12  FLAG_EMAIL           36457 non-null  int64  \n",
      " 13  STATUS               36457 non-null  int64  \n",
      "dtypes: float64(3), int64(11)\n",
      "memory usage: 3.9 MB\n"
     ]
    }
   ],
   "source": [
    "data.info()"
   ]
  },
  {
   "cell_type": "code",
   "execution_count": 4,
   "id": "4b3474ca-303a-43f1-a8cc-e6d2a23e2fc6",
   "metadata": {},
   "outputs": [
    {
     "data": {
      "text/plain": [
       "(36457, 14)"
      ]
     },
     "execution_count": 4,
     "metadata": {},
     "output_type": "execute_result"
    }
   ],
   "source": [
    "data.shape"
   ]
  },
  {
   "cell_type": "code",
   "execution_count": 5,
   "id": "e8ac9f41-8a47-45af-bce7-3dfee291dc6e",
   "metadata": {},
   "outputs": [
    {
     "data": {
      "text/html": [
       "<div>\n",
       "<style scoped>\n",
       "    .dataframe tbody tr th:only-of-type {\n",
       "        vertical-align: middle;\n",
       "    }\n",
       "\n",
       "    .dataframe tbody tr th {\n",
       "        vertical-align: top;\n",
       "    }\n",
       "\n",
       "    .dataframe thead th {\n",
       "        text-align: right;\n",
       "    }\n",
       "</style>\n",
       "<table border=\"1\" class=\"dataframe\">\n",
       "  <thead>\n",
       "    <tr style=\"text-align: right;\">\n",
       "      <th></th>\n",
       "      <th>ID</th>\n",
       "      <th>FLAG_OWN_CAR</th>\n",
       "      <th>FLAG_OWN_REALTY</th>\n",
       "      <th>ANNUAL_INCOME</th>\n",
       "      <th>NAME_INCOME_TYPE</th>\n",
       "      <th>NAME_EDUCATION_TYPE</th>\n",
       "      <th>NAME_HOUSING_TYPE</th>\n",
       "      <th>AGE_YEARS</th>\n",
       "      <th>EMPLOYMENT_LENGTH</th>\n",
       "      <th>FLAG_MOBIL</th>\n",
       "      <th>FLAG_WORK_PHONE</th>\n",
       "      <th>FLAG_PHONE</th>\n",
       "      <th>FLAG_EMAIL</th>\n",
       "      <th>STATUS</th>\n",
       "    </tr>\n",
       "  </thead>\n",
       "  <tbody>\n",
       "    <tr>\n",
       "      <th>0</th>\n",
       "      <td>5008804</td>\n",
       "      <td>1</td>\n",
       "      <td>1</td>\n",
       "      <td>0.2587</td>\n",
       "      <td>4</td>\n",
       "      <td>1</td>\n",
       "      <td>4</td>\n",
       "      <td>0.32</td>\n",
       "      <td>0.12</td>\n",
       "      <td>1</td>\n",
       "      <td>1</td>\n",
       "      <td>0</td>\n",
       "      <td>0</td>\n",
       "      <td>1</td>\n",
       "    </tr>\n",
       "    <tr>\n",
       "      <th>1</th>\n",
       "      <td>5008805</td>\n",
       "      <td>1</td>\n",
       "      <td>1</td>\n",
       "      <td>0.2587</td>\n",
       "      <td>4</td>\n",
       "      <td>1</td>\n",
       "      <td>4</td>\n",
       "      <td>0.32</td>\n",
       "      <td>0.12</td>\n",
       "      <td>1</td>\n",
       "      <td>1</td>\n",
       "      <td>0</td>\n",
       "      <td>0</td>\n",
       "      <td>1</td>\n",
       "    </tr>\n",
       "    <tr>\n",
       "      <th>2</th>\n",
       "      <td>5008806</td>\n",
       "      <td>1</td>\n",
       "      <td>1</td>\n",
       "      <td>0.0552</td>\n",
       "      <td>4</td>\n",
       "      <td>4</td>\n",
       "      <td>1</td>\n",
       "      <td>0.58</td>\n",
       "      <td>0.03</td>\n",
       "      <td>1</td>\n",
       "      <td>0</td>\n",
       "      <td>0</td>\n",
       "      <td>0</td>\n",
       "      <td>0</td>\n",
       "    </tr>\n",
       "    <tr>\n",
       "      <th>3</th>\n",
       "      <td>5008808</td>\n",
       "      <td>0</td>\n",
       "      <td>1</td>\n",
       "      <td>0.1570</td>\n",
       "      <td>0</td>\n",
       "      <td>4</td>\n",
       "      <td>1</td>\n",
       "      <td>0.52</td>\n",
       "      <td>0.08</td>\n",
       "      <td>1</td>\n",
       "      <td>0</td>\n",
       "      <td>1</td>\n",
       "      <td>1</td>\n",
       "      <td>0</td>\n",
       "    </tr>\n",
       "    <tr>\n",
       "      <th>4</th>\n",
       "      <td>5008809</td>\n",
       "      <td>0</td>\n",
       "      <td>1</td>\n",
       "      <td>0.1570</td>\n",
       "      <td>0</td>\n",
       "      <td>4</td>\n",
       "      <td>1</td>\n",
       "      <td>0.52</td>\n",
       "      <td>0.08</td>\n",
       "      <td>1</td>\n",
       "      <td>0</td>\n",
       "      <td>1</td>\n",
       "      <td>1</td>\n",
       "      <td>0</td>\n",
       "    </tr>\n",
       "  </tbody>\n",
       "</table>\n",
       "</div>"
      ],
      "text/plain": [
       "        ID  FLAG_OWN_CAR  FLAG_OWN_REALTY  ANNUAL_INCOME  NAME_INCOME_TYPE  \\\n",
       "0  5008804             1                1         0.2587                 4   \n",
       "1  5008805             1                1         0.2587                 4   \n",
       "2  5008806             1                1         0.0552                 4   \n",
       "3  5008808             0                1         0.1570                 0   \n",
       "4  5008809             0                1         0.1570                 0   \n",
       "\n",
       "   NAME_EDUCATION_TYPE  NAME_HOUSING_TYPE  AGE_YEARS  EMPLOYMENT_LENGTH  \\\n",
       "0                    1                  4       0.32               0.12   \n",
       "1                    1                  4       0.32               0.12   \n",
       "2                    4                  1       0.58               0.03   \n",
       "3                    4                  1       0.52               0.08   \n",
       "4                    4                  1       0.52               0.08   \n",
       "\n",
       "   FLAG_MOBIL  FLAG_WORK_PHONE  FLAG_PHONE  FLAG_EMAIL  STATUS  \n",
       "0           1                1           0           0       1  \n",
       "1           1                1           0           0       1  \n",
       "2           1                0           0           0       0  \n",
       "3           1                0           1           1       0  \n",
       "4           1                0           1           1       0  "
      ]
     },
     "execution_count": 5,
     "metadata": {},
     "output_type": "execute_result"
    }
   ],
   "source": [
    "data.head()"
   ]
  },
  {
   "cell_type": "code",
   "execution_count": 6,
   "id": "0c88b68e-7a7a-4710-9341-c2a29a8a3582",
   "metadata": {},
   "outputs": [],
   "source": [
    "import xgboost as xgb"
   ]
  },
  {
   "cell_type": "code",
   "execution_count": 7,
   "id": "25f9ae3e-ec45-40df-b496-5c204f9e87aa",
   "metadata": {},
   "outputs": [
    {
     "data": {
      "text/plain": [
       "Index(['ID', 'FLAG_OWN_CAR', 'FLAG_OWN_REALTY', 'ANNUAL_INCOME',\n",
       "       'NAME_INCOME_TYPE', 'NAME_EDUCATION_TYPE', 'NAME_HOUSING_TYPE',\n",
       "       'AGE_YEARS', 'EMPLOYMENT_LENGTH', 'FLAG_MOBIL', 'FLAG_WORK_PHONE',\n",
       "       'FLAG_PHONE', 'FLAG_EMAIL', 'STATUS'],\n",
       "      dtype='object')"
      ]
     },
     "execution_count": 7,
     "metadata": {},
     "output_type": "execute_result"
    }
   ],
   "source": [
    "data.columns"
   ]
  },
  {
   "cell_type": "code",
   "execution_count": 8,
   "id": "30709358-5bfa-4ac8-b3b5-4f4c72ad3f00",
   "metadata": {},
   "outputs": [],
   "source": [
    "# X - exclude ID(0) and status(13) columns\n",
    "X = data.iloc[:,1:13]\n",
    "\n",
    "# y - select only status(13) column\n",
    "y = data.iloc[:,13]"
   ]
  },
  {
   "cell_type": "code",
   "execution_count": 9,
   "id": "6c1b1f93-c3a3-46e6-803f-680297377a50",
   "metadata": {},
   "outputs": [
    {
     "data": {
      "text/html": [
       "<div>\n",
       "<style scoped>\n",
       "    .dataframe tbody tr th:only-of-type {\n",
       "        vertical-align: middle;\n",
       "    }\n",
       "\n",
       "    .dataframe tbody tr th {\n",
       "        vertical-align: top;\n",
       "    }\n",
       "\n",
       "    .dataframe thead th {\n",
       "        text-align: right;\n",
       "    }\n",
       "</style>\n",
       "<table border=\"1\" class=\"dataframe\">\n",
       "  <thead>\n",
       "    <tr style=\"text-align: right;\">\n",
       "      <th></th>\n",
       "      <th>FLAG_OWN_CAR</th>\n",
       "      <th>FLAG_OWN_REALTY</th>\n",
       "      <th>ANNUAL_INCOME</th>\n",
       "      <th>NAME_INCOME_TYPE</th>\n",
       "      <th>NAME_EDUCATION_TYPE</th>\n",
       "      <th>NAME_HOUSING_TYPE</th>\n",
       "      <th>AGE_YEARS</th>\n",
       "      <th>EMPLOYMENT_LENGTH</th>\n",
       "      <th>FLAG_MOBIL</th>\n",
       "      <th>FLAG_WORK_PHONE</th>\n",
       "      <th>FLAG_PHONE</th>\n",
       "      <th>FLAG_EMAIL</th>\n",
       "    </tr>\n",
       "  </thead>\n",
       "  <tbody>\n",
       "    <tr>\n",
       "      <th>0</th>\n",
       "      <td>1</td>\n",
       "      <td>1</td>\n",
       "      <td>0.2587</td>\n",
       "      <td>4</td>\n",
       "      <td>1</td>\n",
       "      <td>4</td>\n",
       "      <td>0.32</td>\n",
       "      <td>0.12</td>\n",
       "      <td>1</td>\n",
       "      <td>1</td>\n",
       "      <td>0</td>\n",
       "      <td>0</td>\n",
       "    </tr>\n",
       "    <tr>\n",
       "      <th>1</th>\n",
       "      <td>1</td>\n",
       "      <td>1</td>\n",
       "      <td>0.2587</td>\n",
       "      <td>4</td>\n",
       "      <td>1</td>\n",
       "      <td>4</td>\n",
       "      <td>0.32</td>\n",
       "      <td>0.12</td>\n",
       "      <td>1</td>\n",
       "      <td>1</td>\n",
       "      <td>0</td>\n",
       "      <td>0</td>\n",
       "    </tr>\n",
       "    <tr>\n",
       "      <th>2</th>\n",
       "      <td>1</td>\n",
       "      <td>1</td>\n",
       "      <td>0.0552</td>\n",
       "      <td>4</td>\n",
       "      <td>4</td>\n",
       "      <td>1</td>\n",
       "      <td>0.58</td>\n",
       "      <td>0.03</td>\n",
       "      <td>1</td>\n",
       "      <td>0</td>\n",
       "      <td>0</td>\n",
       "      <td>0</td>\n",
       "    </tr>\n",
       "    <tr>\n",
       "      <th>3</th>\n",
       "      <td>0</td>\n",
       "      <td>1</td>\n",
       "      <td>0.1570</td>\n",
       "      <td>0</td>\n",
       "      <td>4</td>\n",
       "      <td>1</td>\n",
       "      <td>0.52</td>\n",
       "      <td>0.08</td>\n",
       "      <td>1</td>\n",
       "      <td>0</td>\n",
       "      <td>1</td>\n",
       "      <td>1</td>\n",
       "    </tr>\n",
       "    <tr>\n",
       "      <th>4</th>\n",
       "      <td>0</td>\n",
       "      <td>1</td>\n",
       "      <td>0.1570</td>\n",
       "      <td>0</td>\n",
       "      <td>4</td>\n",
       "      <td>1</td>\n",
       "      <td>0.52</td>\n",
       "      <td>0.08</td>\n",
       "      <td>1</td>\n",
       "      <td>0</td>\n",
       "      <td>1</td>\n",
       "      <td>1</td>\n",
       "    </tr>\n",
       "    <tr>\n",
       "      <th>...</th>\n",
       "      <td>...</td>\n",
       "      <td>...</td>\n",
       "      <td>...</td>\n",
       "      <td>...</td>\n",
       "      <td>...</td>\n",
       "      <td>...</td>\n",
       "      <td>...</td>\n",
       "      <td>...</td>\n",
       "      <td>...</td>\n",
       "      <td>...</td>\n",
       "      <td>...</td>\n",
       "      <td>...</td>\n",
       "    </tr>\n",
       "    <tr>\n",
       "      <th>36452</th>\n",
       "      <td>1</td>\n",
       "      <td>1</td>\n",
       "      <td>0.1860</td>\n",
       "      <td>4</td>\n",
       "      <td>4</td>\n",
       "      <td>1</td>\n",
       "      <td>0.47</td>\n",
       "      <td>0.06</td>\n",
       "      <td>1</td>\n",
       "      <td>0</td>\n",
       "      <td>0</td>\n",
       "      <td>0</td>\n",
       "    </tr>\n",
       "    <tr>\n",
       "      <th>36453</th>\n",
       "      <td>0</td>\n",
       "      <td>1</td>\n",
       "      <td>0.0843</td>\n",
       "      <td>0</td>\n",
       "      <td>1</td>\n",
       "      <td>1</td>\n",
       "      <td>0.33</td>\n",
       "      <td>0.03</td>\n",
       "      <td>1</td>\n",
       "      <td>0</td>\n",
       "      <td>1</td>\n",
       "      <td>1</td>\n",
       "    </tr>\n",
       "    <tr>\n",
       "      <th>36454</th>\n",
       "      <td>0</td>\n",
       "      <td>1</td>\n",
       "      <td>0.0843</td>\n",
       "      <td>1</td>\n",
       "      <td>1</td>\n",
       "      <td>1</td>\n",
       "      <td>0.33</td>\n",
       "      <td>0.03</td>\n",
       "      <td>1</td>\n",
       "      <td>0</td>\n",
       "      <td>1</td>\n",
       "      <td>1</td>\n",
       "    </tr>\n",
       "    <tr>\n",
       "      <th>36455</th>\n",
       "      <td>0</td>\n",
       "      <td>1</td>\n",
       "      <td>0.1657</td>\n",
       "      <td>4</td>\n",
       "      <td>4</td>\n",
       "      <td>1</td>\n",
       "      <td>0.49</td>\n",
       "      <td>0.01</td>\n",
       "      <td>1</td>\n",
       "      <td>0</td>\n",
       "      <td>0</td>\n",
       "      <td>0</td>\n",
       "    </tr>\n",
       "    <tr>\n",
       "      <th>36456</th>\n",
       "      <td>0</td>\n",
       "      <td>1</td>\n",
       "      <td>0.0552</td>\n",
       "      <td>4</td>\n",
       "      <td>4</td>\n",
       "      <td>4</td>\n",
       "      <td>0.25</td>\n",
       "      <td>0.03</td>\n",
       "      <td>1</td>\n",
       "      <td>0</td>\n",
       "      <td>0</td>\n",
       "      <td>0</td>\n",
       "    </tr>\n",
       "  </tbody>\n",
       "</table>\n",
       "<p>36457 rows × 12 columns</p>\n",
       "</div>"
      ],
      "text/plain": [
       "       FLAG_OWN_CAR  FLAG_OWN_REALTY  ANNUAL_INCOME  NAME_INCOME_TYPE  \\\n",
       "0                 1                1         0.2587                 4   \n",
       "1                 1                1         0.2587                 4   \n",
       "2                 1                1         0.0552                 4   \n",
       "3                 0                1         0.1570                 0   \n",
       "4                 0                1         0.1570                 0   \n",
       "...             ...              ...            ...               ...   \n",
       "36452             1                1         0.1860                 4   \n",
       "36453             0                1         0.0843                 0   \n",
       "36454             0                1         0.0843                 1   \n",
       "36455             0                1         0.1657                 4   \n",
       "36456             0                1         0.0552                 4   \n",
       "\n",
       "       NAME_EDUCATION_TYPE  NAME_HOUSING_TYPE  AGE_YEARS  EMPLOYMENT_LENGTH  \\\n",
       "0                        1                  4       0.32               0.12   \n",
       "1                        1                  4       0.32               0.12   \n",
       "2                        4                  1       0.58               0.03   \n",
       "3                        4                  1       0.52               0.08   \n",
       "4                        4                  1       0.52               0.08   \n",
       "...                    ...                ...        ...                ...   \n",
       "36452                    4                  1       0.47               0.06   \n",
       "36453                    1                  1       0.33               0.03   \n",
       "36454                    1                  1       0.33               0.03   \n",
       "36455                    4                  1       0.49               0.01   \n",
       "36456                    4                  4       0.25               0.03   \n",
       "\n",
       "       FLAG_MOBIL  FLAG_WORK_PHONE  FLAG_PHONE  FLAG_EMAIL  \n",
       "0               1                1           0           0  \n",
       "1               1                1           0           0  \n",
       "2               1                0           0           0  \n",
       "3               1                0           1           1  \n",
       "4               1                0           1           1  \n",
       "...           ...              ...         ...         ...  \n",
       "36452           1                0           0           0  \n",
       "36453           1                0           1           1  \n",
       "36454           1                0           1           1  \n",
       "36455           1                0           0           0  \n",
       "36456           1                0           0           0  \n",
       "\n",
       "[36457 rows x 12 columns]"
      ]
     },
     "execution_count": 9,
     "metadata": {},
     "output_type": "execute_result"
    }
   ],
   "source": [
    "X"
   ]
  },
  {
   "cell_type": "code",
   "execution_count": 10,
   "id": "2e8a02d5-a7c7-45a8-863d-cea7815881a7",
   "metadata": {},
   "outputs": [
    {
     "data": {
      "text/plain": [
       "0        1\n",
       "1        1\n",
       "2        0\n",
       "3        0\n",
       "4        0\n",
       "        ..\n",
       "36452    1\n",
       "36453    1\n",
       "36454    1\n",
       "36455    1\n",
       "36456    1\n",
       "Name: STATUS, Length: 36457, dtype: int64"
      ]
     },
     "execution_count": 10,
     "metadata": {},
     "output_type": "execute_result"
    }
   ],
   "source": [
    "y"
   ]
  },
  {
   "cell_type": "markdown",
   "id": "9fc5496c-0415-4839-a01d-e3d1e391de0d",
   "metadata": {},
   "source": [
    "### Splitting the data"
   ]
  },
  {
   "cell_type": "code",
   "execution_count": 11,
   "id": "109de6c8-8e48-4001-a808-027171aa76f4",
   "metadata": {},
   "outputs": [],
   "source": [
    "from sklearn.model_selection import train_test_split\n",
    "X_train, X_test, y_train, y_test = train_test_split(X, y, test_size=0.2, random_state=235)"
   ]
  },
  {
   "cell_type": "markdown",
   "id": "93e12b69-a89d-4f74-96aa-be2e90ca15fa",
   "metadata": {},
   "source": [
    "### Defining the model"
   ]
  },
  {
   "cell_type": "code",
   "execution_count": 12,
   "id": "94500ff4-918f-4b10-b175-a992206f5fde",
   "metadata": {},
   "outputs": [],
   "source": [
    "xgb_cred = xgb.XGBClassifier(\n",
    "    learning_rate =0.2,\n",
    "    subsample=0.8,\n",
    "    min_child_weight=50,\n",
    "    n_estimators=100,\n",
    "    max_depth=10,\n",
    "    gamma=0.0,\n",
    "    objective= 'binary:logistic'\n",
    ")"
   ]
  },
  {
   "cell_type": "markdown",
   "id": "97978dec-3c50-4933-bc85-3994cfc3763e",
   "metadata": {},
   "source": [
    "### Fitting the model"
   ]
  },
  {
   "cell_type": "code",
   "execution_count": 13,
   "id": "2d51d922-9c69-4fcb-af99-8e42b5616d2d",
   "metadata": {},
   "outputs": [
    {
     "data": {
      "text/plain": [
       "XGBClassifier(base_score=0.5, booster='gbtree', callbacks=None,\n",
       "              colsample_bylevel=1, colsample_bynode=1, colsample_bytree=1,\n",
       "              early_stopping_rounds=None, enable_categorical=False,\n",
       "              eval_metric=None, feature_types=None, gamma=0.0, gpu_id=-1,\n",
       "              grow_policy='depthwise', importance_type=None,\n",
       "              interaction_constraints='', learning_rate=0.2, max_bin=256,\n",
       "              max_cat_threshold=64, max_cat_to_onehot=4, max_delta_step=0,\n",
       "              max_depth=10, max_leaves=0, min_child_weight=50, missing=nan,\n",
       "              monotone_constraints='()', n_estimators=100, n_jobs=0,\n",
       "              num_parallel_tree=1, predictor='auto', random_state=0, ...)"
      ]
     },
     "execution_count": 13,
     "metadata": {},
     "output_type": "execute_result"
    }
   ],
   "source": [
    "xgb_cred.fit(X_train, y_train)"
   ]
  },
  {
   "cell_type": "markdown",
   "id": "163e0de7-7d84-41d4-bba7-7df30c2d96f6",
   "metadata": {},
   "source": [
    "### Using predict_proba function to get the probability for both of the classes, getting threshold and doing threshold tuning"
   ]
  },
  {
   "cell_type": "code",
   "execution_count": 14,
   "id": "7fc86a01-d7ca-40be-b901-40b3772004c1",
   "metadata": {},
   "outputs": [],
   "source": [
    "# pred_class = xgb_cred.predict(X_test)\n",
    "prob_credit = xgb_cred.predict_proba(X_test)"
   ]
  },
  {
   "cell_type": "code",
   "execution_count": 15,
   "id": "f55c1f19-fb98-4d1a-aba1-497a5230851d",
   "metadata": {},
   "outputs": [
    {
     "data": {
      "text/plain": [
       "array([[0.94219   , 0.05781001],\n",
       "       [0.870894  , 0.12910599],\n",
       "       [0.84423685, 0.15576318],\n",
       "       ...,\n",
       "       [0.9258818 , 0.07411822],\n",
       "       [0.95875293, 0.04124707],\n",
       "       [0.9320458 , 0.06795416]], dtype=float32)"
      ]
     },
     "execution_count": 15,
     "metadata": {},
     "output_type": "execute_result"
    }
   ],
   "source": [
    "prob_credit"
   ]
  },
  {
   "cell_type": "markdown",
   "id": "00e1a222-b04a-4fd9-982d-bfc7e071f343",
   "metadata": {},
   "source": [
    "#### Getting threshold using ROC curve"
   ]
  },
  {
   "cell_type": "code",
   "execution_count": 16,
   "id": "5448b153-110a-49c4-893a-91469943f302",
   "metadata": {},
   "outputs": [
    {
     "name": "stdout",
     "output_type": "stream",
     "text": [
      "Best Threshold=0.116431\n"
     ]
    }
   ],
   "source": [
    "from sklearn.metrics import roc_curve\n",
    "\n",
    "fpr, tpr, thresholds =roc_curve(y_test, prob_credit[:,1])\n",
    "\n",
    "from numpy import argmax \n",
    "ix = argmax(tpr - fpr)\n",
    "best_thresh = thresholds[ix]\n",
    "print('Best Threshold=%f' % (best_thresh))"
   ]
  },
  {
   "cell_type": "markdown",
   "id": "e5962c4c-d3a9-46e8-bcb3-11df55221cd6",
   "metadata": {},
   "source": [
    "#### Threshold tuning"
   ]
  },
  {
   "cell_type": "code",
   "execution_count": 17,
   "id": "f6f9d930-1e51-4303-9ba1-8acf1bd04945",
   "metadata": {},
   "outputs": [],
   "source": [
    "prob_credit_new = prob_credit[:,1]"
   ]
  },
  {
   "cell_type": "code",
   "execution_count": 18,
   "id": "e2f879cd-b39c-4934-9c00-01a442d81657",
   "metadata": {},
   "outputs": [
    {
     "data": {
      "text/plain": [
       "array([0.05781001, 0.12910599, 0.15576318, ..., 0.07411822, 0.04124707,\n",
       "       0.06795416], dtype=float32)"
      ]
     },
     "execution_count": 18,
     "metadata": {},
     "output_type": "execute_result"
    }
   ],
   "source": [
    "prob_credit_new"
   ]
  },
  {
   "cell_type": "markdown",
   "id": "2d5ff25b-f87f-4b3f-812e-4dae3991777d",
   "metadata": {},
   "source": [
    "#### Getting 88th percentile (100-threshold)"
   ]
  },
  {
   "cell_type": "code",
   "execution_count": 19,
   "id": "8319fba7-9266-4145-aea3-1cd536f76e31",
   "metadata": {},
   "outputs": [
    {
     "data": {
      "text/plain": [
       "0.18998706340789795"
      ]
     },
     "execution_count": 19,
     "metadata": {},
     "output_type": "execute_result"
    }
   ],
   "source": [
    "np.quantile(prob_credit_new, 0.88)"
   ]
  },
  {
   "cell_type": "markdown",
   "id": "0387c8aa-451b-4364-81e7-dde17904f170",
   "metadata": {},
   "source": [
    "#### Classifying everything above 88th percentile into class 1"
   ]
  },
  {
   "cell_type": "code",
   "execution_count": 20,
   "id": "4a5769d2-3025-4c29-9bc3-1a610001579b",
   "metadata": {},
   "outputs": [],
   "source": [
    "y_pred = np.where(prob_credit_new>=0.19,1,0)"
   ]
  },
  {
   "cell_type": "code",
   "execution_count": 21,
   "id": "fe8dc221-0453-4197-9a82-62e8b0039e38",
   "metadata": {},
   "outputs": [
    {
     "data": {
      "text/plain": [
       "array([0, 0, 0, ..., 0, 0, 0])"
      ]
     },
     "execution_count": 21,
     "metadata": {},
     "output_type": "execute_result"
    }
   ],
   "source": [
    "y_pred"
   ]
  },
  {
   "cell_type": "markdown",
   "id": "f95562eb-846a-4f74-9734-32690ca888c0",
   "metadata": {},
   "source": [
    "### Checking feature importance using XGBoost"
   ]
  },
  {
   "cell_type": "code",
   "execution_count": 22,
   "id": "da2ebd01-2595-4dee-a9f9-e87f351e66ca",
   "metadata": {},
   "outputs": [
    {
     "data": {
      "image/png": "[encoded data removed]",
      "text/plain": [
       "<Figure size 432x288 with 1 Axes>"
      ]
     },
     "metadata": {
      "needs_background": "light"
     },
     "output_type": "display_data"
    }
   ],
   "source": [
    "xgb.plot_importance(xgb_cred)\n",
    "plt.rcParams['figure.figsize'] = [16, 10]\n",
    "plt.show()"
   ]
  },
  {
   "cell_type": "markdown",
   "id": "6f1a9417-f721-4fcd-92a2-f1ecfda0b518",
   "metadata": {},
   "source": [
    "### Evaluation"
   ]
  },
  {
   "cell_type": "code",
   "execution_count": 23,
   "id": "424702ef-ebe6-436b-8a07-f1df1617467b",
   "metadata": {},
   "outputs": [
    {
     "name": "stdout",
     "output_type": "stream",
     "text": [
      "Accuracy:  82.48765770707624 %\n",
      "Precision:  26.43020594965675 %\n",
      "Recall:  26.705202312138727 %\n"
     ]
    },
    {
     "data": {
      "text/plain": [
       "[Text(0.5, 69.0, 'Predicted'), Text(123.0, 0.5, 'Actual')]"
      ]
     },
     "execution_count": 23,
     "metadata": {},
     "output_type": "execute_result"
    },
    {
     "data": {
      "image/png": "[encoded data removed]",
      "text/plain": [
       "<Figure size 1152x720 with 2 Axes>"
      ]
     },
     "metadata": {
      "needs_background": "light"
     },
     "output_type": "display_data"
    }
   ],
   "source": [
    "from sklearn.metrics import accuracy_score\n",
    "from sklearn.metrics import confusion_matrix\n",
    "from sklearn.metrics import precision_score\n",
    "from sklearn.metrics import recall_score\n",
    "\n",
    "accuracy = accuracy_score(y_test, y_pred)\n",
    "precision = precision_score(y_test, y_pred)\n",
    "recall = recall_score(y_test, y_pred)\n",
    "print(\"Accuracy: \", accuracy * 100.0, \"%\")\n",
    "print(\"Precision: \", precision * 100.0, \"%\")\n",
    "print(\"Recall: \", recall * 100.0, \"%\")\n",
    "\n",
    "cm = confusion_matrix(y_test, y_pred)\n",
    "labels = ['ACCEPTED', 'DENIED']\n",
    "ax= sns.heatmap(cm, annot = True, fmt = 'g', xticklabels=labels, yticklabels=labels)\n",
    "ax.set(xlabel=\"Predicted\", ylabel=\"Actual\")"
   ]
  },
  {
   "cell_type": "markdown",
   "id": "c7f225cb-9d8f-44ea-aa13-4ec1a3d5fa67",
   "metadata": {},
   "source": [
    "### ROC Curve"
   ]
  },
  {
   "cell_type": "code",
   "execution_count": 24,
   "id": "63e27fe5-396b-43c5-afc5-174eb0394e60",
   "metadata": {},
   "outputs": [
    {
     "data": {
      "image/png": "[encoded data removed]",
      "text/plain": [
       "<Figure size 1152x720 with 1 Axes>"
      ]
     },
     "metadata": {
      "needs_background": "light"
     },
     "output_type": "display_data"
    }
   ],
   "source": [
    "fpr, tpr, thresholds =roc_curve(y_test, prob_credit_new)\n",
    "\n",
    "plt.plot(fpr, tpr, color='orange', label='ROC')\n",
    "plt.plot([0, 1], [0, 1], color='darkblue', linestyle='--')\n",
    "\n",
    "plt.xlabel('False Positive Rate')\n",
    "plt.ylabel('True Positive Rate')\n",
    "plt.show()\n"
   ]
  },
  {
   "cell_type": "markdown",
   "id": "0e2e800b-31b6-4d12-9642-5726b342c2ec",
   "metadata": {},
   "source": [
    "# Hyper parameter optimization using Grid Search"
   ]
  },
  {
   "cell_type": "code",
   "execution_count": 25,
   "id": "b892c2d9-f2e7-477e-88d7-f1c2a0b5b3cc",
   "metadata": {},
   "outputs": [
    {
     "data": {
      "text/plain": [
       "GridSearchCV(cv=5,\n",
       "             estimator=XGBClassifier(base_score=None, booster=None,\n",
       "                                     callbacks=None, colsample_bylevel=None,\n",
       "                                     colsample_bynode=None,\n",
       "                                     colsample_bytree=None,\n",
       "                                     early_stopping_rounds=None,\n",
       "                                     enable_categorical=False, eval_metric=None,\n",
       "                                     feature_types=None, gamma=None,\n",
       "                                     gpu_id=None, grow_policy=None,\n",
       "                                     importance_type=None,\n",
       "                                     interaction_constraints=None,\n",
       "                                     learning_rate=0.1, m...\n",
       "                                     max_leaves=None, min_child_weight=50,\n",
       "                                     missing=nan, monotone_constraints=None,\n",
       "                                     n_estimators=100, n_jobs=None,\n",
       "                                     num_parallel_tree=None, predictor=None,\n",
       "                                     random_state=None, ...),\n",
       "             n_jobs=4,\n",
       "             param_grid={'colsample_bytree': [0.5, 0.6, 0.7],\n",
       "                         'gamma': [0.0, 0.1, 0.2, 0.3, 0.4],\n",
       "                         'learning_rate': [0.05, 0.1, 0.15, 0.2],\n",
       "                         'max_depth': [10, 15],\n",
       "                         'min_child_weight': [6, 8, 10, 12],\n",
       "                         'subsample': [0.6, 0.7, 0.8]},\n",
       "             scoring='roc_auc')"
      ]
     },
     "execution_count": 25,
     "metadata": {},
     "output_type": "execute_result"
    }
   ],
   "source": [
    "import warnings\n",
    "warnings.filterwarnings(\"ignore\")\n",
    "\n",
    "from sklearn.model_selection import GridSearchCV\n",
    "from xgboost.sklearn import XGBClassifier\n",
    "\n",
    "params = {\n",
    "    'learning_rate': [0.05,0.1,0.15,0.2],\n",
    "    'gamma':[0.0,0.1,0.2,0.3,0.4],\n",
    "    'min_child_weight':[6,8,10,12],\n",
    "    'max_depth':[10,15],\n",
    "    'subsample': [0.6,0.7,0.8], \n",
    "    'colsample_bytree':[0.5,0.6,0.7]\n",
    "}\n",
    "\n",
    "gs = GridSearchCV(\n",
    "    estimator = XGBClassifier( \n",
    "        learning_rate =0.1,\n",
    "        max_depth=10,\n",
    "        min_child_weight=50,\n",
    "        subsample=0.6,\n",
    "        n_estimators=100,\n",
    "        objective= 'binary:logistic'), \n",
    "    param_grid = params,\n",
    "    scoring='roc_auc',\n",
    "    n_jobs=4, \n",
    "    cv=5)\n",
    "\n",
    "gs.fit(X_train, y_train)"
   ]
  },
  {
   "cell_type": "markdown",
   "id": "be1d9230-95a1-456f-aa80-33583a362f3c",
   "metadata": {},
   "source": [
    "#### Getting best parameters"
   ]
  },
  {
   "cell_type": "code",
   "execution_count": 26,
   "id": "cf201612-370c-462d-ab4b-c767d6ef4232",
   "metadata": {},
   "outputs": [
    {
     "data": {
      "text/plain": [
       "({'colsample_bytree': 0.7,\n",
       "  'gamma': 0.3,\n",
       "  'learning_rate': 0.2,\n",
       "  'max_depth': 15,\n",
       "  'min_child_weight': 6,\n",
       "  'subsample': 0.8},\n",
       " 0.7211680459970174)"
      ]
     },
     "execution_count": 26,
     "metadata": {},
     "output_type": "execute_result"
    }
   ],
   "source": [
    "gs.best_params_, gs.best_score_"
   ]
  },
  {
   "cell_type": "markdown",
   "id": "c614dda5-e5b1-48f4-abb7-b2d975ecce2d",
   "metadata": {},
   "source": [
    "#### Creating new model using optimized parameters"
   ]
  },
  {
   "cell_type": "code",
   "execution_count": 27,
   "id": "cc478a39-52ce-4e72-8d1c-ea2453e6e949",
   "metadata": {},
   "outputs": [
    {
     "data": {
      "text/plain": [
       "XGBClassifier(base_score=0.5, booster='gbtree', callbacks=None,\n",
       "              colsample_bylevel=1, colsample_bynode=1, colsample_bytree=0.7,\n",
       "              early_stopping_rounds=None, enable_categorical=False,\n",
       "              eval_metric=None, feature_types=None, gamma=0.3, gpu_id=-1,\n",
       "              grow_policy='depthwise', importance_type=None,\n",
       "              interaction_constraints='', learning_rate=0.2, max_bin=256,\n",
       "              max_cat_threshold=64, max_cat_to_onehot=4, max_delta_step=0,\n",
       "              max_depth=15, max_leaves=0, min_child_weight=6, missing=nan,\n",
       "              monotone_constraints='()', n_estimators=100, n_jobs=0,\n",
       "              num_parallel_tree=1, predictor='auto', random_state=0, ...)"
      ]
     },
     "execution_count": 27,
     "metadata": {},
     "output_type": "execute_result"
    }
   ],
   "source": [
    "optimized_xgbcred = xgb.XGBClassifier(\n",
    "    colsample_bytree=0.7,\n",
    "    gamma=0.3,\n",
    "    learning_rate =0.2,\n",
    "    max_depth=15,\n",
    "    min_child_weight=6,\n",
    "    subsample=0.8,\n",
    "    n_estimators=100,\n",
    "    objective= 'binary:logistic'\n",
    ")\n",
    "optimized_xgbcred.fit(X_train,y_train)"
   ]
  },
  {
   "cell_type": "markdown",
   "id": "b7274142-dbe8-4e92-ae98-062a48fe1a44",
   "metadata": {},
   "source": [
    "#### Threshold tuning"
   ]
  },
  {
   "cell_type": "code",
   "execution_count": 28,
   "id": "33d0295f-4e99-4ab7-b05b-813dcf5c4a53",
   "metadata": {},
   "outputs": [
    {
     "name": "stdout",
     "output_type": "stream",
     "text": [
      "Best Threshold=0.129789\n"
     ]
    }
   ],
   "source": [
    "prob_credit2 = optimized_xgbcred.predict_proba(X_test)\n",
    "prob_credit_new2 = prob_credit2[:,1]\n",
    "\n",
    "fpr2, tpr2, thresholds2 =roc_curve(y_test, prob_credit2[:,1])\n",
    "\n",
    "from numpy import argmax \n",
    "ix = argmax(tpr2 - fpr2)\n",
    "best_thresh2 = thresholds2[ix]\n",
    "print('Best Threshold=%f' % (best_thresh2))"
   ]
  },
  {
   "cell_type": "code",
   "execution_count": 29,
   "id": "bf304eb4-c78f-4f4d-b50a-4d8a5f4d4956",
   "metadata": {},
   "outputs": [
    {
     "data": {
      "text/plain": [
       "0.24123850464820862"
      ]
     },
     "execution_count": 29,
     "metadata": {},
     "output_type": "execute_result"
    }
   ],
   "source": [
    "np.quantile(prob_credit_new2,0.88)"
   ]
  },
  {
   "cell_type": "markdown",
   "id": "b94640aa-2b3c-4cf9-9f24-88284443f98a",
   "metadata": {},
   "source": [
    "## Evaluation"
   ]
  },
  {
   "cell_type": "code",
   "execution_count": 30,
   "id": "f85a0a15-f93d-42a7-8bfd-39f8878dd84f",
   "metadata": {},
   "outputs": [
    {
     "name": "stdout",
     "output_type": "stream",
     "text": [
      "Accuracy:  85.98464070213933 %\n",
      "Precision:  40.507859733978236 %\n",
      "Recall:  38.72832369942196 %\n"
     ]
    },
    {
     "data": {
      "text/plain": [
       "[Text(0.5, 69.0, 'Predicted'), Text(123.0, 0.5, 'Actual')]"
      ]
     },
     "execution_count": 30,
     "metadata": {},
     "output_type": "execute_result"
    },
    {
     "data": {
      "image/png": "[encoded data removed]",
      "text/plain": [
       "<Figure size 1152x720 with 2 Axes>"
      ]
     },
     "metadata": {
      "needs_background": "light"
     },
     "output_type": "display_data"
    }
   ],
   "source": [
    "y_pred_final = np.where(prob_credit_new2>=0.25,1,0)\n",
    "\n",
    "accuracy2 = accuracy_score(y_test, y_pred_final)\n",
    "precision2 = precision_score(y_test, y_pred_final)\n",
    "recall2 = recall_score(y_test, y_pred_final)\n",
    "print(\"Accuracy: \", accuracy2 * 100.0, \"%\")\n",
    "print(\"Precision: \", precision2 * 100.0, \"%\")\n",
    "print(\"Recall: \", recall2 * 100.0, \"%\")\n",
    "\n",
    "cm = confusion_matrix(y_test, y_pred_final)\n",
    "ax= sns.heatmap(cm, annot = True, fmt = 'g', xticklabels=labels, yticklabels=labels)\n",
    "ax.set(xlabel=\"Predicted\", ylabel=\"Actual\")"
   ]
  },
  {
   "cell_type": "markdown",
   "id": "ff0216c7-ad94-4409-8150-9a57efd362e9",
   "metadata": {},
   "source": [
    "#### ROC Curve"
   ]
  },
  {
   "cell_type": "code",
   "execution_count": 31,
   "id": "6ba7b53e-0b36-4a77-a5a4-afb583b72476",
   "metadata": {},
   "outputs": [
    {
     "data": {
      "image/png": "[encoded data removed]",
      "text/plain": [
       "<Figure size 1152x720 with 1 Axes>"
      ]
     },
     "metadata": {
      "needs_background": "light"
     },
     "output_type": "display_data"
    }
   ],
   "source": [
    "fpr, tpr, thresholds =roc_curve(y_test, prob_credit_new2)\n",
    "\n",
    "plt.plot(fpr, tpr, color='orange', label='ROC')\n",
    "plt.plot([0, 1], [0, 1], color='darkblue', linestyle='--')\n",
    "\n",
    "plt.xlabel('False Positive Rate')\n",
    "plt.ylabel('True Positive Rate')\n",
    "\n",
    "plt.show()"
   ]
  },
  {
   "cell_type": "markdown",
   "id": "0763cc55-97dd-4653-bc83-8fa1577d2dc4",
   "metadata": {},
   "source": [
    "#### PR Curve"
   ]
  },
  {
   "cell_type": "code",
   "execution_count": 32,
   "id": "5d420ff9-7d6d-4fd8-be33-8e4b3ff0705c",
   "metadata": {},
   "outputs": [
    {
     "data": {
      "image/png": "[encoded data removed]",
      "text/plain": [
       "<Figure size 1152x720 with 1 Axes>"
      ]
     },
     "metadata": {
      "needs_background": "light"
     },
     "output_type": "display_data"
    }
   ],
   "source": [
    "from sklearn.metrics import precision_recall_curve\n",
    "model_precision, model_recall, thresholds = precision_recall_curve(y_test, prob_credit_new2)\n",
    "\n",
    "plt.plot([0, 1], [1, 0], color='darkblue', linestyle='--')\n",
    "plt.plot(model_recall, model_precision, color='orange')\n",
    "plt.xlabel('Recall')\n",
    "plt.ylabel('Precision')\n",
    "plt.title('Precision Recall Curve')\n",
    "plt.show()"
   ]
  },
  {
   "cell_type": "markdown",
   "id": "2024946b-2184-499e-aa2d-3b81e79022bf",
   "metadata": {},
   "source": [
    "#### Comparing results with predict with predict_proba (Skipping threshold tuning)"
   ]
  },
  {
   "cell_type": "code",
   "execution_count": 33,
   "id": "e5ddfe35-3a6a-4ab0-8789-540574ace57d",
   "metadata": {},
   "outputs": [
    {
     "name": "stdout",
     "output_type": "stream",
     "text": [
      "Accuracy:  88.3433900164564 %\n",
      "Precision:  52.72727272727272 %\n",
      "Recall:  16.76300578034682 %\n"
     ]
    },
    {
     "data": {
      "text/plain": [
       "[Text(0.5, 69.0, 'Predicted'), Text(123.0, 0.5, 'Actual')]"
      ]
     },
     "execution_count": 33,
     "metadata": {},
     "output_type": "execute_result"
    },
    {
     "data": {
      "image/png": "[encoded data removed]",
      "text/plain": [
       "<Figure size 1152x720 with 2 Axes>"
      ]
     },
     "metadata": {
      "needs_background": "light"
     },
     "output_type": "display_data"
    }
   ],
   "source": [
    "pred = optimized_xgbcred.predict(X_test)\n",
    "accuracy_pred = accuracy_score(y_test, pred)\n",
    "precision_pred = precision_score(y_test, pred)\n",
    "recall_pred = recall_score(y_test, pred)\n",
    "print(\"Accuracy: \", accuracy_pred * 100.0, \"%\")\n",
    "print(\"Precision: \", precision_pred * 100.0, \"%\")\n",
    "print(\"Recall: \", recall_pred * 100.0, \"%\")\n",
    "\n",
    "cm2 = confusion_matrix(y_test, pred)\n",
    "\n",
    "ax1= sns.heatmap(cm2, annot = True, fmt = 'g', xticklabels=labels, yticklabels=labels)\n",
    "ax1.set(xlabel=\"Predicted\", ylabel=\"Actual\")"
   ]
  },
  {
   "cell_type": "markdown",
   "id": "6156ef32-8c8f-4c1a-a4ad-2b2dd110d130",
   "metadata": {},
   "source": [
    "## Cross validation"
   ]
  },
  {
   "cell_type": "code",
   "execution_count": 34,
   "id": "ab6939eb-3852-4dfb-ad50-d1da871a315d",
   "metadata": {},
   "outputs": [],
   "source": [
    "from xgboost import cv\n",
    "\n",
    "data_dmatrix = xgb.DMatrix(data=X,label=y)\n",
    "\n",
    "params = {\"objective\":\"binary:logistic\",\n",
    "  'colsample_bytree': 0.7,\n",
    "  'gamma': 0.3,\n",
    "  'learning_rate': 0.2,\n",
    "  'max_depth': 15,\n",
    "  'min_child_weight': 6,\n",
    "  'subsample': 0.8}\n",
    "\n",
    "xgb_cv = cv(dtrain=data_dmatrix, params=params, \n",
    "            nfold=10, num_boost_round=50, \n",
    "            early_stopping_rounds=10, metrics=\"auc\", \n",
    "            as_pandas=True, seed=123)"
   ]
  },
  {
   "cell_type": "code",
   "execution_count": 35,
   "id": "7171e511-8897-4145-a5d3-aa835e0ab35b",
   "metadata": {},
   "outputs": [
    {
     "data": {
      "text/html": [
       "<div>\n",
       "<style scoped>\n",
       "    .dataframe tbody tr th:only-of-type {\n",
       "        vertical-align: middle;\n",
       "    }\n",
       "\n",
       "    .dataframe tbody tr th {\n",
       "        vertical-align: top;\n",
       "    }\n",
       "\n",
       "    .dataframe thead th {\n",
       "        text-align: right;\n",
       "    }\n",
       "</style>\n",
       "<table border=\"1\" class=\"dataframe\">\n",
       "  <thead>\n",
       "    <tr style=\"text-align: right;\">\n",
       "      <th></th>\n",
       "      <th>train-auc-mean</th>\n",
       "      <th>train-auc-std</th>\n",
       "      <th>test-auc-mean</th>\n",
       "      <th>test-auc-std</th>\n",
       "    </tr>\n",
       "  </thead>\n",
       "  <tbody>\n",
       "    <tr>\n",
       "      <th>0</th>\n",
       "      <td>0.577196</td>\n",
       "      <td>0.011156</td>\n",
       "      <td>0.553061</td>\n",
       "      <td>0.019695</td>\n",
       "    </tr>\n",
       "    <tr>\n",
       "      <th>1</th>\n",
       "      <td>0.653113</td>\n",
       "      <td>0.027487</td>\n",
       "      <td>0.590434</td>\n",
       "      <td>0.020550</td>\n",
       "    </tr>\n",
       "    <tr>\n",
       "      <th>2</th>\n",
       "      <td>0.690509</td>\n",
       "      <td>0.023729</td>\n",
       "      <td>0.613734</td>\n",
       "      <td>0.022419</td>\n",
       "    </tr>\n",
       "    <tr>\n",
       "      <th>3</th>\n",
       "      <td>0.714307</td>\n",
       "      <td>0.027939</td>\n",
       "      <td>0.630664</td>\n",
       "      <td>0.026715</td>\n",
       "    </tr>\n",
       "    <tr>\n",
       "      <th>4</th>\n",
       "      <td>0.745717</td>\n",
       "      <td>0.017183</td>\n",
       "      <td>0.645010</td>\n",
       "      <td>0.027020</td>\n",
       "    </tr>\n",
       "  </tbody>\n",
       "</table>\n",
       "</div>"
      ],
      "text/plain": [
       "   train-auc-mean  train-auc-std  test-auc-mean  test-auc-std\n",
       "0        0.577196       0.011156       0.553061      0.019695\n",
       "1        0.653113       0.027487       0.590434      0.020550\n",
       "2        0.690509       0.023729       0.613734      0.022419\n",
       "3        0.714307       0.027939       0.630664      0.026715\n",
       "4        0.745717       0.017183       0.645010      0.027020"
      ]
     },
     "execution_count": 35,
     "metadata": {},
     "output_type": "execute_result"
    }
   ],
   "source": [
    "xgb_cv.head()"
   ]
  },
  {
   "cell_type": "code",
   "execution_count": 36,
   "id": "fa3a1b18-5222-4bd6-a402-240f3c2bffe8",
   "metadata": {},
   "outputs": [
    {
     "data": {
      "text/html": [
       "<div>\n",
       "<style scoped>\n",
       "    .dataframe tbody tr th:only-of-type {\n",
       "        vertical-align: middle;\n",
       "    }\n",
       "\n",
       "    .dataframe tbody tr th {\n",
       "        vertical-align: top;\n",
       "    }\n",
       "\n",
       "    .dataframe thead th {\n",
       "        text-align: right;\n",
       "    }\n",
       "</style>\n",
       "<table border=\"1\" class=\"dataframe\">\n",
       "  <thead>\n",
       "    <tr style=\"text-align: right;\">\n",
       "      <th></th>\n",
       "      <th>train-auc-mean</th>\n",
       "      <th>train-auc-std</th>\n",
       "      <th>test-auc-mean</th>\n",
       "      <th>test-auc-std</th>\n",
       "    </tr>\n",
       "  </thead>\n",
       "  <tbody>\n",
       "    <tr>\n",
       "      <th>45</th>\n",
       "      <td>0.885701</td>\n",
       "      <td>0.001672</td>\n",
       "      <td>0.731618</td>\n",
       "      <td>0.014740</td>\n",
       "    </tr>\n",
       "    <tr>\n",
       "      <th>46</th>\n",
       "      <td>0.886599</td>\n",
       "      <td>0.001795</td>\n",
       "      <td>0.731653</td>\n",
       "      <td>0.014443</td>\n",
       "    </tr>\n",
       "    <tr>\n",
       "      <th>47</th>\n",
       "      <td>0.887537</td>\n",
       "      <td>0.001544</td>\n",
       "      <td>0.731908</td>\n",
       "      <td>0.014290</td>\n",
       "    </tr>\n",
       "    <tr>\n",
       "      <th>48</th>\n",
       "      <td>0.888541</td>\n",
       "      <td>0.001628</td>\n",
       "      <td>0.732646</td>\n",
       "      <td>0.013585</td>\n",
       "    </tr>\n",
       "    <tr>\n",
       "      <th>49</th>\n",
       "      <td>0.889618</td>\n",
       "      <td>0.001478</td>\n",
       "      <td>0.732504</td>\n",
       "      <td>0.013535</td>\n",
       "    </tr>\n",
       "  </tbody>\n",
       "</table>\n",
       "</div>"
      ],
      "text/plain": [
       "    train-auc-mean  train-auc-std  test-auc-mean  test-auc-std\n",
       "45        0.885701       0.001672       0.731618      0.014740\n",
       "46        0.886599       0.001795       0.731653      0.014443\n",
       "47        0.887537       0.001544       0.731908      0.014290\n",
       "48        0.888541       0.001628       0.732646      0.013585\n",
       "49        0.889618       0.001478       0.732504      0.013535"
      ]
     },
     "execution_count": 36,
     "metadata": {},
     "output_type": "execute_result"
    }
   ],
   "source": [
    "xgb_cv.tail()"
   ]
  },
  {
   "cell_type": "code",
   "execution_count": 37,
   "id": "7be0ee21-dbc5-43be-992d-dd2a05b42db7",
   "metadata": {},
   "outputs": [
    {
     "data": {
      "text/plain": [
       "[Text(0.5, 0, 'Boost Round'), Text(0, 0.5, 'AUC')]"
      ]
     },
     "execution_count": 37,
     "metadata": {},
     "output_type": "execute_result"
    },
    {
     "data": {
      "image/png": "[encoded data removed]",
      "text/plain": [
       "<Figure size 1152x720 with 1 Axes>"
      ]
     },
     "metadata": {
      "needs_background": "light"
     },
     "output_type": "display_data"
    }
   ],
   "source": [
    "ax = sns.lineplot(data=xgb_cv, dashes=False)\n",
    "ax.set(xlabel=\"Boost Round\", ylabel=\"AUC\")"
   ]
  },
  {
   "cell_type": "code",
   "execution_count": null,
   "id": "fb92d894-7613-45dc-a31b-138a24775704",
   "metadata": {},
   "outputs": [],
   "source": []
  }
 ],
 "metadata": {
  "kernelspec": {
   "display_name": "Python 3 (ipykernel)",
   "language": "python",
   "name": "python3"
  },
  "language_info": {
   "codemirror_mode": {
    "name": "ipython",
    "version": 3
   },
   "file_extension": ".py",
   "mimetype": "text/x-python",
   "name": "python",
   "nbconvert_exporter": "python",
   "pygments_lexer": "ipython3",
   "version": "3.9.12"
  }
 },
 "nbformat": 4,
 "nbformat_minor": 5
}
